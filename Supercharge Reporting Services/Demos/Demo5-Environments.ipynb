{
    "metadata": {
        "kernelspec": {
            "name": "SQL",
            "display_name": "SQL",
            "language": "sql"
        },
        "language_info": {
            "name": "sql",
            "version": ""
        }
    },
    "nbformat_minor": 2,
    "nbformat": 4,
    "cells": [
        {
            "cell_type": "markdown",
            "source": [
                "# Supercharge your Reporting Services - An essential toolkit\r\n",
                "## Craig Porteous | [@cporteous](https://twitter.com/cporteous) | [craigporteous.com](https://craigporteous.com) | [github.com/cporteou](https://github.com/cporteou)"
            ],
            "metadata": {}
        },
        {
            "cell_type": "markdown",
            "source": [
                "## Environment Management\r\n",
                "\r\n",
                "### Migration considerations\r\n",
                "---\r\n",
                "\r\n",
                "Scale Out Servers (SSRS Nodes)"
            ],
            "metadata": {}
        },
        {
            "cell_type": "code",
            "source": [
                "USE ReportServer \r\n",
                "\r\n",
                "SELECT\r\n",
                "    *\r\n",
                "FROM\r\n",
                "    dbo.Keys"
            ],
            "metadata": {},
            "outputs": [],
            "execution_count": 2
        }
    ]
}