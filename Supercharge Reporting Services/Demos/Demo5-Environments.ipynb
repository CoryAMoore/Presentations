{
    "metadata": {
        "kernelspec": {
            "name": "SQL",
            "display_name": "SQL",
            "language": "sql"
        },
        "language_info": {
            "name": "sql",
            "version": ""
        }
    },
    "nbformat_minor": 2,
    "nbformat": 4,
    "cells": [
        {
            "cell_type": "markdown",
            "source": [
                "# Supercharge your Reporting Services - An essential toolkit\r\n",
                "## Craig Porteous | [@cporteous](https://twitter.com/cporteous) | [craigporteous.com](https://craigporteous.com) | [github.com/cporteou](https://github.com/cporteou)"
            ],
            "metadata": {
                "azdata_cell_guid": "2b477f4d-d8a3-4d14-b212-f4ef56d5dbcc"
            }
        },
        {
            "cell_type": "markdown",
            "source": [
                "## Environment Management\r\n",
                "\r\n",
                "### Migration considerations\r\n",
                "---\r\n",
                "\r\n",
                "Scale Out Servers (SSRS Nodes) on SSRSTOOLKIT2"
            ],
            "metadata": {
                "azdata_cell_guid": "3734809b-44d3-441e-bbbe-0e2c15c814ab"
            }
        },
        {
            "cell_type": "code",
            "source": [
                "USE ReportServer \r\n",
                "\r\n",
                "SELECT\r\n",
                "    *\r\n",
                "FROM\r\n",
                "    dbo.Keys"
            ],
            "metadata": {
                "azdata_cell_guid": "d0f487af-5ca0-4a72-9ecc-f0a9193d0938"
            },
            "outputs": [],
            "execution_count": null
        },
        {
            "cell_type": "markdown",
            "source": [
                "Remove the old server"
            ],
            "metadata": {
                "azdata_cell_guid": "bdb7728e-575a-4e2a-a1cc-2d54dff1df6f"
            }
        },
        {
            "cell_type": "code",
            "source": [
                "USE ReportServer\r\n",
                "\r\n",
                "DELETE FROM dbo.Keys WHERE MachineName = 'ssrstoolkit'"
            ],
            "metadata": {
                "azdata_cell_guid": "ad6b3496-07b3-4168-ade2-8da1d397fadb"
            },
            "outputs": [],
            "execution_count": null
        }
    ]
}