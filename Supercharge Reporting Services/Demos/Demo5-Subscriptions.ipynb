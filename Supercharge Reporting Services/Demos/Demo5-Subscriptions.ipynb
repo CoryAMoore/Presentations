{
    "metadata": {
        "kernelspec": {
            "name": "SQL",
            "display_name": "SQL",
            "language": "sql"
        },
        "language_info": {
            "name": "sql",
            "version": ""
        }
    },
    "nbformat_minor": 2,
    "nbformat": 4,
    "cells": [
        {
            "cell_type": "markdown",
            "source": "# Supercharge your Reporting Services - An essential toolkit\r\n## Craig Porteous | [@cporteous](https://twitter.com/cporteous) | [craigporteous.com](https://craigporteous.com) | [github.com/cporteou](https://github.com/cporteou)",
            "metadata": {}
        },
        {
            "cell_type": "markdown",
            "source": "## Subscription Management\r\n\r\n### Subscription Next Run Summary\r\n---\r\n\r\nProvides detail on the next run date for all subscriptions and the commands needed to quickly disable them.",
            "metadata": {}
        },
        {
            "cell_type": "code",
            "source": "USE ReportServer\r\n\r\nSELECT\r\n\t'EXEC msdb.dbo.sp_update_job @job_name=''' + J.Name + ''',@enabled = 0' AS Disable_Cmd\r\n\t,'EXEC msdb.dbo.sp_update_job @job_name=''' + J.Name + ''',@enabled = 1' AS Enable_Cmd\r\n\t,'EXEC msdb.dbo.sp_start_job ''' + J.Name + '''' AS Run_Cmd\r\n\t,'Next Run Date' = CASE next_run_date\r\n\tWHEN 0 THEN null\r\n\tELSE\r\n\t\tsubstring(convert(varchar(15),next_run_date),1,4) + '/' +\r\n\t\tsubstring(convert(varchar(15),next_run_date),5,2) + '/' +\r\n\t\tsubstring(convert(varchar(15),next_run_date),7,2)\r\n\tEND,\r\n\t'Next Run Time' = isnull(CASE len(next_run_time)\r\n\tWHEN 3 THEN cast('00:0'\r\n\t\t+ Left(right(next_run_time,3),1)\r\n\t\t+':' + right(next_run_time,2) as char (8))\r\n\tWHEN 4 THEN cast('00:'\r\n\t\t+ Left(right(next_run_time,4),2)\r\n\t\t+':' + right(next_run_time,2) as char (8))\r\n\tWHEN 5 THEN cast('0' + Left(right(next_run_time,5),1)\r\n\t\t+':' + Left(right(next_run_time,4),2)\r\n\t\t+':' + right(next_run_time,2) as char (8))\r\n\tWHEN 6 THEN cast(Left(right(next_run_time,6),2)\r\n\t\t+':' + Left(right(next_run_time,4),2)\r\n\t\t+':' + right(next_run_time,2) as char (8))\r\n\tEND,'NA')\r\n\t,Convert(XML,[ExtensionSettings]).value('(//ParameterValue/Value[../Name=\"TO\"])[1]','nvarchar(50)') as [To]\r\n\t,Convert(XML,[ExtensionSettings]).value('(//ParameterValue/Value[../Name=\"RenderFormat\"])[1]','nvarchar(50)') as [Render Format]\r\n\t,Convert(XML,[ExtensionSettings]).value('(//ParameterValue/Value[../Name=\"Subject\"])[1]','nvarchar(50)') as [Subject]\r\n\t,[ModifiedDate]\r\n\t,[LastStatus]\r\n\t,[EventType]\r\n\t,[LastRunTime]\r\n\t,[DeliveryExtension]\r\n\t,[Version]\r\nFROM \r\n\tdbo.[Subscriptions] S \r\n\tINNER JOIN dbo.ReportSchedule R ON S.SubscriptionID = R.SubscriptionID\r\n\tINNER JOIN msdb.dbo.sysjobs J ON Convert(nvarchar(128),R.ScheduleID) = J.name\r\n\tINNER JOIN msdb.dbo.sysjobschedules JS ON J.job_id = JS.job_id\r\nORDER BY next_run_date, next_run_time",
            "metadata": {},
            "outputs": [],
            "execution_count": 1
        },
        {
            "cell_type": "markdown",
            "source": "### Subscription Failure Job\r\n---\r\nSet this job up to run daily and summarise all subscription failures in an email.",
            "metadata": {}
        },
        {
            "cell_type": "code",
            "source": "USE ReportServer\r\n \r\nDECLARE @count INT\r\n \r\nSELECT\r\n   \tCat.[Name],\r\n   \tRep.[ScheduleId],\r\n   \tOwn.[UserName],\r\n   \tISNULL(REPLACE(Sub.[Description],'send e-mail to ',''),' ') AS Recipients,\r\n   \tSub.[LastStatus],\r\n   \tCat.[Path],\r\n   \tSub.[LastRunTime]\r\nINTO\r\n   \t#tFailedSubs\r\nFROM\r\n   \tdbo.[Subscriptions] Sub\r\nINNER JOIN\r\n   \tdbo.[Catalog] Cat on Sub.[Report_OID] = Cat.[ItemID]\r\nINNER JOIN\r\n   \tdbo.[ReportSchedule] Rep ON (cat.[ItemID] = Rep.[ReportID] \r\n\t   and Sub.[SubscriptionID] =Rep.[SubscriptionID])\r\nINNER JOIN\r\n   \tdbo.[Users] Own on Sub.[OwnerID] = Own.[UserID]\r\nWHERE\r\nSub.[LastStatus] NOT LIKE '%was written%' --File Share subscription\r\nAND Sub.[LastStatus] NOT LIKE '%pending%' --Subscription in progress. No result yet\r\nAND Sub.[LastStatus] NOT LIKE '%mail sent%' --Mail sent successfully.\r\nAND Sub.[LastStatus] NOT LIKE '%New Subscription%' --New Sub. Not been executed yet\r\nAND Sub.[LastStatus] NOT LIKE '%been saved%' --File Share subscription\r\nAND Sub.[LastStatus] NOT LIKE '% 0 errors.' --Data Driven subscription\r\nAND Sub.[LastStatus] NOT LIKE '%succeeded%' --Success! Used in cache refreshes\r\nAND Sub.[LastStatus] NOT LIKE '%successfully saved%' --File Share subscription\r\nAND Sub.[LastStatus] NOT LIKE '%New Cache%' --New cache refresh plan\r\n-- AND Sub.[LastRunTime] > GETDATE()-1\r\n\r\n-- If any failed subscriptions found, proceed to build HTML & send mail.\r\nSELECT @count = COUNT(*) FROM #tFailedSubs\r\n \r\nIF (@count>0) \r\n   \tBEGIN\r\n \r\n   \tDECLARE @EmailRecipient NVARCHAR(1000)\r\n   \tDECLARE @SubjectText NVARCHAR(1000)\r\n   \tDECLARE @ProfileName NVARCHAR(1000)\r\n   \tDECLARE @tableHTML1 NVARCHAR(MAX)\r\n   \tDECLARE @tableHTMLAll NVARCHAR(MAX)\r\n \r\n   \tSET NOCOUNT ON\r\n   \t\r\n   \tSELECT @EmailRecipient = 'Changeme@craigporteous.com'\r\n   \tSET @SubjectText = 'Failed SSRS Subscriptions'\r\n \r\n   \t--Set DB Mail profile to use\r\n   \tSELECT TOP 1 @ProfileName = [Name] FROM msdb.dbo.sysmail_profile WHERE [Name] = 'Alert-BI-Admins'\r\n   \t\r\n   \tSET @tableHTML1 =\r\n \r\n         \tN'<H3 style=\"color:red; font-family:verdana\">Failed SSRS Subscription details. Please resolve & re-run jobs</H3>' +\r\n         \tN'<p align=\"left\" style=\"font-family:verdana; font-size:8pt\"></p>' +\r\n         \tN'<table border=\"2\" style=\"font-size:8pt; font-family:verdana; text-align:left\">' +\r\n         \tN'<tr style=\"color:black; font-weight:bold\">' +\r\n         \tN'<th>Report Name</th><th>SQL Agent Job ID</th><th>Owner Username</th><th>Distribution</th><th>Error Message</th><th>Report Location</th><th>Last Run Time</th></tr>' +\r\n         \tCAST((\r\n                \tSELECT\r\n                       \ttd = t.[Name],'',\r\n                       \ttd = t.[ScheduleId],'',\r\n                       \ttd = t.[UserName],'',\r\n                       \ttd = t.[Recipients],'',\r\n                       \ttd = t.[LastStatus],'',\r\n                       \ttd = t.[Path],'',\r\n                \t   \ttd = t.[LastRunTime]\r\n                \tFROM\r\n                       \t#tFailedSubs t\r\n                \tFOR XML PATH('tr'), TYPE)\r\n         \tAS NVARCHAR(MAX) ) +\r\n         \tN'</table>'\r\n \r\nSET @tableHTMLAll = ISNULL(@tableHTML1,'')\r\n \r\nIF @tableHTMLAll <> ''   \t\r\n   \tBEGIN\r\n\t\tEXEC msdb.dbo.sp_send_dbmail\r\n\t\t\t\t@profile_name = @ProfileName,\r\n\t\t\t\t@recipients = @EmailRecipient,\r\n\t\t\t\t@body = @tableHTMLAll,\r\n\t\t\t\t@body_format = 'HTML',\r\n\t\t\t\t@subject = @SubjectText\r\n   \tEND\r\n \r\nSET NOCOUNT OFF \r\nDROP TABLE #tFailedSubs\r\n \r\nEND",
            "metadata": {},
            "outputs": [],
            "execution_count": 0
        },
        {
            "cell_type": "markdown",
            "source": "### Subscription Owner Change\r\n---\r\nActually altering SSRS' tables directly is risky. This is best handled in PowerShell but...  \r\nRemove the WHERE clause to update all subscriptions. This gives visibility in the UI of ALL subscriptions from a single account. A service account for example.",
            "metadata": {}
        },
        {
            "cell_type": "code",
            "source": "USE ReportServer\r\n\r\n-- Take a quick backup\r\nSELECT * INTO Subscriptions_backup from dbo.Subscriptions\r\n\r\nDECLARE @OldUserID uniqueidentifier\r\nDECLARE @NewUserID uniqueidentifier\r\n\r\nSELECT @OldUserID = UserID FROM dbo.Users WHERE UserName = 'DOMAIN\\USER' -- Old subscription owner\r\nSELECT @NewUserID = UserID FROM dbo.Users WHERE UserName = 'DOMAIN\\NEWUSER' -- New subscription owner\r\n\r\nUPDATE dbo.Subscriptions SET OwnerID = @NewUserID WHERE OwnerID = @OldUserID\r\nGO",
            "metadata": {},
            "outputs": [],
            "execution_count": 0
        }
    ]
}