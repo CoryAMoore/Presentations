{
    "metadata": {
        "kernelspec": {
            "name": "SQL",
            "display_name": "SQL",
            "language": "sql"
        },
        "language_info": {
            "name": "sql",
            "version": ""
        }
    },
    "nbformat_minor": 2,
    "nbformat": 4,
    "cells": [
        {
            "cell_type": "markdown",
            "source": "# Supercharge your Reporting Services - An essential toolkit\r\n## Craig Porteous | [@cporteous](https://twitter.com/cporteous) | [craigporteous.com](https://craigporteous.com) | [github.com/cporteou](https://github.com/cporteou)",
            "metadata": {}
        },
        {
            "cell_type": "markdown",
            "source": "## Content Management\r\n\r\n### Orphaned Datasources\r\n---\r\n\r\nData sources with no dependent datasets or reports. This is a maintenance script to keep your environment tidy",
            "metadata": {}
        },
        {
            "cell_type": "code",
            "source": "SELECT \r\n    cat.name, \r\n    cat.Path,\r\n    cat.CreationDate \r\nFROM ReportServer.dbo.Catalog cat\r\nLEFT JOIN ReportServer.dbo.Datasource ds \r\nON ds.Link = cat.ItemId\r\nWHERE ds.Link IS NULL\r\nAND cat.Type = 5",
            "metadata": {},
            "outputs": [],
            "execution_count": 1
        },
        {
            "cell_type": "markdown",
            "source": "### Unused Reports\r\n---\r\nIdentify reports that aren't being used. This is dependent on the timeframe of your execution log but you can always tailor this using a historical execution log table.",
            "metadata": {}
        },
        {
            "cell_type": "code",
            "source": "SELECT \r\n\tcat.Name,\r\n    cat.Path,\r\n    cat.CreationDate,\r\n    cat.ModifiedDate\r\nFROM \r\n\tReportServer.dbo.Catalog cat \r\nWHERE \r\n\tcat.ItemID NOT IN (SELECT DISTINCT ReportID FROM ReportServer.dbo.ExecutionLogStorage)\r\nAND cat.Type = 2 --Report\r\nORDER BY\r\n\tcat.Path",
            "metadata": {},
            "outputs": [],
            "execution_count": 0
        },
        {
            "cell_type": "markdown",
            "source": "### Top 10 longest running reports\r\n---\r\nReports that are consistently taking a long time to run. These will be candidates for performance improvements",
            "metadata": {}
        },
        {
            "cell_type": "code",
            "source": "SELECT TOP 10 \r\n\tCASE\r\n\t\tWHEN LEN(Itempath) =0 THEN 'ReportBuilder'\r\n\t\tELSE ItemPath\r\n\tEND AS ReportPath,\r\n\tRequestType,\r\n\tUserName,\r\n\tTimeStart,\r\n\tTimeEnd,\r\n\tFormat,\r\n\t((TimeDataRetrieval + TimeProcessing + TimeRendering)/1000)/60 AS Total_Time_mins,\r\n\t[Status],\r\n\t[RowCount]\r\nFROM ReportServer.dbo.ExecutionLog3\r\nWHERE TimeStart >= GETDATE()-7\r\nORDER BY (TimeDataRetrieval + TimeProcessing + TimeRendering) DESC",
            "metadata": {},
            "outputs": [],
            "execution_count": 8
        },
        {
            "cell_type": "markdown",
            "source": "### Large Report Executions\r\n---\r\nAre users running reports with a significant row count? These may not be an issue in itself but could be combined with the long running report analysis",
            "metadata": {}
        },
        {
            "cell_type": "code",
            "source": "SELECT \r\n\tCASE\r\n\t\tWHEN LEN(Itempath) =0 THEN 'ReportBuilder'\r\n\t\tELSE ItemPath\r\n\tEND AS ReportPath,\r\n\tUserName,\r\n\tTimeStart,\r\n\tFormat,\r\n\t[Status],\r\n\t[RowCount]\r\nFROM ReportServer.dbo.ExecutionLog3\r\nWHERE [RowCount] >= 100000\r\nAND RequestType <> 'Subscription'\r\nAND TimeStart >= GETDATE()-7\r\nORDER BY TimeStart DESC",
            "metadata": {},
            "outputs": [],
            "execution_count": 6
        },
        {
            "cell_type": "markdown",
            "source": "",
            "metadata": {}
        }
    ]
}