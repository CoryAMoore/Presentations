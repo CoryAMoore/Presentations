{
    "metadata": {
        "kernelspec": {
            "name": "SQL",
            "display_name": "SQL",
            "language": "sql"
        },
        "language_info": {
            "name": "sql",
            "version": ""
        }
    },
    "nbformat_minor": 2,
    "nbformat": 4,
    "cells": [
        {
            "cell_type": "markdown",
            "source": [
                "# Supercharge your Reporting Services - An essential toolkit\r\n",
                "## Craig Porteous | [@cporteous](https://twitter.com/cporteous) | [craigporteous.com](https://craigporteous.com) | [github.com/cporteou](https://github.com/cporteou)"
            ],
            "metadata": {
                "azdata_cell_guid": "280b38ea-5f88-4918-b283-47db9da37bcf"
            }
        },
        {
            "cell_type": "markdown",
            "source": [
                "## Content Management\r\n",
                "\r\n",
                "### Orphaned Datasources\r\n",
                "---\r\n",
                "\r\n",
                "Data sources with no dependent datasets or reports. This is a maintenance script to keep your environment tidy"
            ],
            "metadata": {
                "azdata_cell_guid": "67b675c8-633c-4075-92c7-d60597c2f3bd"
            }
        },
        {
            "cell_type": "code",
            "source": [
                "SELECT \r\n",
                "    cat.name, \r\n",
                "    cat.Path,\r\n",
                "    cat.CreationDate \r\n",
                "FROM ReportServer.dbo.Catalog cat\r\n",
                "LEFT JOIN ReportServer.dbo.Datasource ds\r\n",
                "ON ds.Link = cat.ItemId\r\n",
                "WHERE ds.Link IS NULL\r\n",
                "AND cat.Type = 5"
            ],
            "metadata": {
                "azdata_cell_guid": "940a7ca9-9c27-448f-8379-bcb6ec4e7191"
            },
            "outputs": [],
            "execution_count": null
        },
        {
            "cell_type": "markdown",
            "source": [
                "### Unused Reports\r\n",
                "---\r\n",
                "Identify reports that aren't being used. This is dependent on the timeframe of your execution log but you can always tailor this using a historical execution log table."
            ],
            "metadata": {
                "azdata_cell_guid": "2d30cd67-5fd8-452f-9abb-157ee236529a"
            }
        },
        {
            "cell_type": "code",
            "source": [
                "SELECT \r\n",
                "\tcat.Name,\r\n",
                "    cat.Path,\r\n",
                "    cat.CreationDate,\r\n",
                "    cat.ModifiedDate\r\n",
                "FROM \r\n",
                "\tReportServer.dbo.Catalog cat \r\n",
                "WHERE \r\n",
                "\tcat.ItemID NOT IN (SELECT DISTINCT ReportID FROM ReportServer.dbo.ExecutionLogStorage)\r\n",
                "AND cat.Type = 2 --Report\r\n",
                "ORDER BY\r\n",
                "\tcat.Path"
            ],
            "metadata": {
                "azdata_cell_guid": "d052c1ec-ea54-48a6-9092-b4ae18dfec92"
            },
            "outputs": [],
            "execution_count": null
        },
        {
            "cell_type": "markdown",
            "source": [
                "### Top 10 longest running reports\r\n",
                "---\r\n",
                "Reports that are consistently taking a long time to run. These will be candidates for performance improvements"
            ],
            "metadata": {
                "azdata_cell_guid": "7e0343b2-9a13-4ddb-b116-20f6536c0b26"
            }
        },
        {
            "cell_type": "code",
            "source": [
                "SELECT TOP 10 \r\n",
                "\tCASE\r\n",
                "\t\tWHEN LEN(Itempath) =0 THEN 'ReportBuilder'\r\n",
                "\t\tELSE ItemPath\r\n",
                "\tEND AS ReportPath,\r\n",
                "\tRequestType,\r\n",
                "\tUserName,\r\n",
                "\tTimeStart,\r\n",
                "\tTimeEnd,\r\n",
                "\tFormat,\r\n",
                "\t((TimeDataRetrieval + TimeProcessing + TimeRendering)/1000) AS Total_Time_secs,\r\n",
                "\t[Status],\r\n",
                "\t[RowCount]\r\n",
                "FROM ReportServer.dbo.ExecutionLog3\r\n",
                "WHERE TimeStart >= GETDATE()- 365\r\n",
                "ORDER BY (TimeDataRetrieval + TimeProcessing + TimeRendering) DESC"
            ],
            "metadata": {
                "azdata_cell_guid": "83fad5d2-0f89-48c2-a7ff-3e40474e54c4"
            },
            "outputs": [],
            "execution_count": null
        },
        {
            "cell_type": "markdown",
            "source": [
                "### Large Report Executions\r\n",
                "---\r\n",
                "Are users running reports with a significant row count? These may not be an issue in itself but could be combined with the long running report analysis"
            ],
            "metadata": {
                "azdata_cell_guid": "6dcb1997-82e7-4c3a-954f-3162bc89456a"
            }
        },
        {
            "cell_type": "code",
            "source": [
                "SELECT \r\n",
                "\tCASE\r\n",
                "\t\tWHEN LEN(Itempath) =0 THEN 'ReportBuilder'\r\n",
                "\t\tELSE ItemPath\r\n",
                "\tEND AS ReportPath,\r\n",
                "\tUserName,\r\n",
                "\tTimeStart,\r\n",
                "\tFormat,\r\n",
                "\t[Status],\r\n",
                "\t[RowCount]\r\n",
                "FROM ReportServer.dbo.ExecutionLog3\r\n",
                "WHERE [RowCount] >= 100000\r\n",
                "-- AND RequestType <> 'Subscription'\r\n",
                "AND TimeStart >= GETDATE()-365\r\n",
                "ORDER BY TimeStart DESC"
            ],
            "metadata": {
                "azdata_cell_guid": "ef53d4c8-e057-4e89-98de-0550479aa4cd"
            },
            "outputs": [],
            "execution_count": null
        }
    ]
}