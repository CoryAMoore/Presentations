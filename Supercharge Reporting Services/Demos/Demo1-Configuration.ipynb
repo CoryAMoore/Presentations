{
    "metadata": {
        "kernelspec": {
            "name": "SQL",
            "display_name": "SQL",
            "language": "sql"
        },
        "language_info": {
            "name": "sql",
            "version": ""
        }
    },
    "nbformat_minor": 2,
    "nbformat": 4,
    "cells": [
        {
            "cell_type": "markdown",
            "source": [
                "# Supercharge your Reporting Services - An essential toolkit\r\n",
                "## Craig Porteous | [@cporteous](https://twitter.com/cporteous) | [craigporteous.com](https://craigporteous.com) | [github.com/cporteou](https://github.com/cporteou)"
            ],
            "metadata": {
                "azdata_cell_guid": "9060ac7e-bce6-4eae-93de-1ef4e795cc4b"
            }
        },
        {
            "cell_type": "markdown",
            "source": [
                "## Configuration\r\n",
                "\r\n",
                "### Expanding Execution Log Storage\r\n",
                "---\r\n",
                "\r\n",
                "\r\n",
                ""
            ],
            "metadata": {
                "azdata_cell_guid": "03f7353b-5379-406a-b7a0-065374754bf1"
            }
        },
        {
            "cell_type": "code",
            "source": [
                "USE ReportServer\r\n",
                "\r\n",
                "EXEC GetOneConfigurationInfo @Name=N'ExecutionLogDaysKept' "
            ],
            "metadata": {
                "azdata_cell_guid": "4ebff202-05f7-4fd8-ad5a-6e829ef4c25f"
            },
            "outputs": [],
            "execution_count": null
        },
        {
            "cell_type": "markdown",
            "source": [
                "Default is 60 Days. Expand this to 1 year or whatever suits your environment's usage"
            ],
            "metadata": {
                "azdata_cell_guid": "ff6b2045-5796-434c-a877-31582e24ca96"
            }
        },
        {
            "cell_type": "code",
            "source": [
                "USE ReportServer\r\n",
                "\r\n",
                "EXEC SetConfigurationInfo @Name=N'ExecutionLogDaysKept',@Value=N'365'\r\n",
                "\r\n",
                "EXEC GetOneConfigurationInfo @Name=N'ExecutionLogDaysKept' "
            ],
            "metadata": {
                "azdata_cell_guid": "72bf2bdb-018a-4d4c-a1cf-2d16142402b6"
            },
            "outputs": [],
            "execution_count": null
        }
    ]
}