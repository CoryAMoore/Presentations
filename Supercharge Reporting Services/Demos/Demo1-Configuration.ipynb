{
    "metadata": {
        "kernelspec": {
            "name": "SQL",
            "display_name": "SQL",
            "language": "sql"
        },
        "language_info": {
            "name": "sql",
            "version": ""
        }
    },
    "nbformat_minor": 2,
    "nbformat": 4,
    "cells": [
        {
            "cell_type": "markdown",
            "source": [
                "# Supercharge your Reporting Services - An essential toolkit\r\n",
                "## Craig Porteous | [@cporteous](https://twitter.com/cporteous) | [craigporteous.com](https://craigporteous.com) | [github.com/cporteou](https://github.com/cporteou)"
            ],
            "metadata": {}
        },
        {
            "cell_type": "markdown",
            "source": [
                "## Configuration\r\n",
                "\r\n",
                "### Expanding Execution Log Storage\r\n",
                "---\r\n",
                "\r\n",
                "\r\n",
                ""
            ],
            "metadata": {}
        },
        {
            "cell_type": "code",
            "source": [
                "USE ReportServer\r\n",
                "\r\n",
                "EXEC GetOneConfigurationInfo @Name=N'ExecutionLogDaysKept' "
            ],
            "metadata": {},
            "outputs": [],
            "execution_count": 2
        },
        {
            "cell_type": "markdown",
            "source": "Default is 60 Days. Expand this to 1 year or whatever suits your environment's usage",
            "metadata": {}
        },
        {
            "cell_type": "code",
            "source": [
                "USE ReportServer\r\n",
                "\r\n",
                "EXEC SetConfigurationInfo @Name=N'ExecutionLogDaysKept',@Value=N'365'\r\n",
                "\r\n",
                "EXEC GetOneConfigurationInfo @Name=N'ExecutionLogDaysKept' "
            ],
            "metadata": {},
            "outputs": [],
            "execution_count": 3
        }
    ]
}