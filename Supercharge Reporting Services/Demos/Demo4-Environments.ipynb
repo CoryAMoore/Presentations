{
    "metadata": {
        "kernelspec": {
            "name": "SQL",
            "display_name": "SQL",
            "language": "sql"
        },
        "language_info": {
            "name": "sql",
            "version": ""
        }
    },
    "nbformat_minor": 2,
    "nbformat": 4,
    "cells": [
        {
            "cell_type": "markdown",
            "source": "# Supercharge your Reporting Services - An essential toolkit\r\n## Craig Porteous | [@cporteous](https://twitter.com/cporteous) | [craigporteous.com](https://craigporteous.com) | [github.com/cporteou](https://github.com/cporteou)",
            "metadata": {}
        },
        {
            "cell_type": "markdown",
            "source": "## Environment Management\r\n\r\n### Migration considerations\r\n---\r\n\r\nScale Out Servers (SSRS Nodes)",
            "metadata": {}
        },
        {
            "cell_type": "code",
            "source": "USE ReportServer \r\n\r\nSELECT\r\n    *\r\nFROM\r\n    dbo.Servers",
            "metadata": {},
            "outputs": [
                {
                    "output_type": "error",
                    "evalue": "Msg 208, Level 16, State 1, Line 3\r\nInvalid object name 'dbo.Servers'.",
                    "ename": "",
                    "traceback": []
                },
                {
                    "output_type": "display_data",
                    "data": {
                        "text/html": "Total execution time: 00:00:00.225"
                    },
                    "metadata": {}
                }
            ],
            "execution_count": 1
        }
    ]
}