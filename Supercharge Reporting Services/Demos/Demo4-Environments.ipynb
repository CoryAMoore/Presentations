{
    "metadata": {
        "kernelspec": {
            "name": "SQL",
            "display_name": "SQL",
            "language": "sql"
        },
        "language_info": {
            "name": "sql",
            "version": ""
        }
    },
    "nbformat_minor": 2,
    "nbformat": 4,
    "cells": [
        {
            "cell_type": "markdown",
            "source": "# Supercharge your Reporting Services - An essential toolkit\r\n## Craig Porteous | [@cporteous](https://twitter.com/cporteous) | [craigporteous.com](https://craigporteous.com) | [github.com/cporteou](https://github.com/cporteou)",
            "metadata": {}
        },
        {
            "cell_type": "markdown",
            "source": "## Environment Management\r\n\r\n### Script title\r\n---\r\n\r\nDetail",
            "metadata": {}
        }
    ]
}