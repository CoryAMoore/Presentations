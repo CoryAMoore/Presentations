{
    "metadata": {
        "kernelspec": {
            "name": "SQL",
            "display_name": "SQL",
            "language": "sql"
        },
        "language_info": {
            "name": "sql",
            "version": ""
        }
    },
    "nbformat_minor": 2,
    "nbformat": 4,
    "cells": [
        {
            "cell_type": "markdown",
            "source": [
                "# Supercharge your Reporting Services - An essential toolkit\r\n",
                "## Craig Porteous | [@cporteous](https://twitter.com/cporteous) | [craigporteous.com](https://craigporteous.com) | [github.com/cporteou](https://github.com/cporteou)"
            ],
            "metadata": {}
        },
        {
            "cell_type": "markdown",
            "source": [
                "## Subscription Management\r\n",
                "\r\n",
                "### Subscription Next Run Summary\r\n",
                "---\r\n",
                "\r\n",
                "Provides detail on the next run date for all subscriptions and the commands needed to quickly disable them."
            ],
            "metadata": {}
        },
        {
            "cell_type": "code",
            "source": [
                "USE ReportServer\r\n",
                "\r\n",
                "SELECT\r\n",
                "\t'EXEC msdb.dbo.sp_update_job @job_name=''' + J.Name + ''',@enabled = 0' AS Disable_Cmd\r\n",
                "\t,'EXEC msdb.dbo.sp_update_job @job_name=''' + J.Name + ''',@enabled = 1' AS Enable_Cmd\r\n",
                "\t,'EXEC msdb.dbo.sp_start_job ''' + J.Name + '''' AS Run_Cmd\r\n",
                "\t,'Next Run Date' = CASE next_run_date\r\n",
                "\tWHEN 0 THEN null\r\n",
                "\tELSE\r\n",
                "\t\tsubstring(convert(varchar(15),next_run_date),1,4) + '/' +\r\n",
                "\t\tsubstring(convert(varchar(15),next_run_date),5,2) + '/' +\r\n",
                "\t\tsubstring(convert(varchar(15),next_run_date),7,2)\r\n",
                "\tEND,\r\n",
                "\t'Next Run Time' = isnull(CASE len(next_run_time)\r\n",
                "\tWHEN 3 THEN cast('00:0'\r\n",
                "\t\t+ Left(right(next_run_time,3),1)\r\n",
                "\t\t+':' + right(next_run_time,2) as char (8))\r\n",
                "\tWHEN 4 THEN cast('00:'\r\n",
                "\t\t+ Left(right(next_run_time,4),2)\r\n",
                "\t\t+':' + right(next_run_time,2) as char (8))\r\n",
                "\tWHEN 5 THEN cast('0' + Left(right(next_run_time,5),1)\r\n",
                "\t\t+':' + Left(right(next_run_time,4),2)\r\n",
                "\t\t+':' + right(next_run_time,2) as char (8))\r\n",
                "\tWHEN 6 THEN cast(Left(right(next_run_time,6),2)\r\n",
                "\t\t+':' + Left(right(next_run_time,4),2)\r\n",
                "\t\t+':' + right(next_run_time,2) as char (8))\r\n",
                "\tEND,'NA')\r\n",
                "\t,Convert(XML,[ExtensionSettings]).value('(//ParameterValue/Value[../Name=\"TO\"])[1]','nvarchar(50)') as [To]\r\n",
                "\t,Convert(XML,[ExtensionSettings]).value('(//ParameterValue/Value[../Name=\"RenderFormat\"])[1]','nvarchar(50)') as [Render Format]\r\n",
                "\t,Convert(XML,[ExtensionSettings]).value('(//ParameterValue/Value[../Name=\"Subject\"])[1]','nvarchar(50)') as [Subject]\r\n",
                "\t,[ModifiedDate]\r\n",
                "\t,[LastStatus]\r\n",
                "\t,[EventType]\r\n",
                "\t,[LastRunTime]\r\n",
                "\t,[DeliveryExtension]\r\n",
                "\t,[Version]\r\n",
                "FROM \r\n",
                "\tdbo.[Subscriptions] S \r\n",
                "\tINNER JOIN dbo.ReportSchedule R ON S.SubscriptionID = R.SubscriptionID\r\n",
                "\tINNER JOIN msdb.dbo.sysjobs J ON Convert(nvarchar(128),R.ScheduleID) = J.name\r\n",
                "\tINNER JOIN msdb.dbo.sysjobschedules JS ON J.job_id = JS.job_id\r\n",
                "ORDER BY next_run_date, next_run_time"
            ],
            "metadata": {},
            "outputs": [],
            "execution_count": 1
        },
        {
            "cell_type": "markdown",
            "source": [
                "### Subscription Failure Job\r\n",
                "---\r\n",
                "Set this job up to run daily and summarise all subscription failures in an email.  \r\n",
                "The full script with job creation steps can be found in the Scripts folder."
            ],
            "metadata": {}
        },
        {
            "cell_type": "code",
            "source": [
                "USE ReportServer\r\n",
                " \r\n",
                "DECLARE @count INT\r\n",
                " \r\n",
                "SELECT\r\n",
                "   \tCat.[Name],\r\n",
                "   \tRep.[ScheduleId],\r\n",
                "   \tOwn.[UserName],\r\n",
                "   \tISNULL(REPLACE(Sub.[Description],'Send e-mail to ',''),' ') AS Recipients,\r\n",
                "   \tSub.[LastStatus],\r\n",
                "   \tCat.[Path],\r\n",
                "\t'<a href=\"http://ssrstoolkit/Reports/Pages/Report.aspx?ItemPath=' + Cat.[Path] + '\">' + Cat.[Path] + '</a>' as [LinkedPath],\r\n",
                "   \tSub.[LastRunTime]\r\n",
                "FROM\r\n",
                "   \tdbo.[Subscriptions] Sub\r\n",
                "INNER JOIN\r\n",
                "   \tdbo.[Catalog] Cat on Sub.[Report_OID] = Cat.[ItemID]\r\n",
                "INNER JOIN\r\n",
                "   \tdbo.[ReportSchedule] Rep ON (cat.[ItemID] = Rep.[ReportID] \r\n",
                "\t   and Sub.[SubscriptionID] =Rep.[SubscriptionID])\r\n",
                "INNER JOIN\r\n",
                "   \tdbo.[Users] Own on Sub.[OwnerID] = Own.[UserID]\r\n",
                "WHERE\r\n",
                "Sub.[LastStatus] NOT LIKE '%was written%' --File Share subscription\r\n",
                "AND Sub.[LastStatus] NOT LIKE '%pending%' --Subscription in progress. No result yet\r\n",
                "AND Sub.[LastStatus] NOT LIKE '%mail sent%' --Mail sent successfully.\r\n",
                "AND Sub.[LastStatus] NOT LIKE '%New Subscription%' --New Sub. Not been executed yet\r\n",
                "AND Sub.[LastStatus] NOT LIKE '%been saved%' --File Share subscription\r\n",
                "AND Sub.[LastStatus] NOT LIKE '% 0 errors.' --Data Driven subscription\r\n",
                "AND Sub.[LastStatus] NOT LIKE '%succeeded%' --Success! Used in cache refreshes\r\n",
                "AND Sub.[LastStatus] NOT LIKE '%successfully saved%' --File Share subscription\r\n",
                "AND Sub.[LastStatus] NOT LIKE '%New Cache%' --New cache refresh plan\r\n",
                "-- AND Sub.[LastRunTime] > GETDATE()-1"
            ],
            "metadata": {},
            "outputs": [],
            "execution_count": 2
        },
        {
            "cell_type": "markdown",
            "source": [
                "### Subscription Owner Change\r\n",
                "---\r\n",
                "Actually altering SSRS' tables directly is risky. This is best handled in PowerShell but...  \r\n",
                "Remove the WHERE clause to update all subscriptions. This gives visibility in the UI of ALL subscriptions from a single account. A service account for example."
            ],
            "metadata": {}
        },
        {
            "cell_type": "code",
            "source": [
                "USE ReportServer\r\n",
                "\r\n",
                "-- Take a quick backup\r\n",
                "SELECT * INTO Subscriptions_backup from dbo.Subscriptions\r\n",
                "\r\n",
                "DECLARE @OldUserID uniqueidentifier\r\n",
                "DECLARE @NewUserID uniqueidentifier\r\n",
                "\r\n",
                "SELECT @OldUserID = UserID FROM dbo.Users WHERE UserName = 'DOMAIN\\USER' -- Old subscription owner\r\n",
                "SELECT @NewUserID = UserID FROM dbo.Users WHERE UserName = 'DOMAIN\\NEWUSER' -- New subscription owner\r\n",
                "\r\n",
                "UPDATE dbo.Subscriptions SET OwnerID = @NewUserID WHERE OwnerID = @OldUserID\r\n",
                "GO"
            ],
            "metadata": {},
            "outputs": [],
            "execution_count": 0
        }
    ]
}